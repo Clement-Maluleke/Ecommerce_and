{
 "cells": [
  {
   "cell_type": "markdown",
   "id": "4bb058fa",
   "metadata": {},
   "source": [
    "# ETL, Exploration and Visualizations of Ecommerce and customer data\n",
    "\n",
    "<h3 align= \"center\" > Details of data analyst  </h3>\n",
    "\n",
    "Names         : Clement Hlamulu Maluleke <br>\n",
    "Qualification : BSc Mathematical Sciences (Statistics and Mathematica)<br>\n",
    "Phone number  :076 460 3710 / 078 177 6902 <br>\n",
    "Email         :clementhlamulu@gmail.com <br>\n",
    "Date          : 25 December 2024 <br>\n",
    "\n",
    "\n",
    "<h3 align = \"center\"> Discription of data </h3>\n",
    " \n",
    "    \n",
    "<p text-style= \"justify\">\n",
    "This dataset provides a comprehensive view of customer transactions across various\n",
    "regions, product categories, and age groups. It captures essential details about\n",
    "customer purchases, including shipping status and fees, offering a clear snapshot of\n",
    "sales performance and customer demographics. Whether you're looking to analyze\n",
    "sales trends, customer behavior, or regional purchasing habits, this dataset provides a\n",
    "versatile foundation for exploring e-commerce insights.\n",
    "    </p>\n",
    "\n"
   ]
  },
  {
   "cell_type": "markdown",
   "id": "010b822c",
   "metadata": {},
   "source": [
    "## Import important packages."
   ]
  },
  {
   "cell_type": "code",
   "execution_count": 1,
   "id": "e4e35d7e",
   "metadata": {},
   "outputs": [],
   "source": [
    "import pandas as pd # this imports pandas package and alias it as pd.\n",
    "import numpy as py # imports numpy package and alias it as py.\n",
    "#from pandas_profiling import ProfileReport\n",
    "import seaborn as sns\n",
    "import matplotlib.pyplot as plt\n"
   ]
  },
  {
   "cell_type": "markdown",
   "id": "0e0cc971",
   "metadata": {},
   "source": [
    "## Load the dataset."
   ]
  },
  {
   "cell_type": "code",
   "execution_count": 2,
   "id": "94747f93",
   "metadata": {},
   "outputs": [
    {
     "data": {
      "text/html": [
       "<div>\n",
       "<style scoped>\n",
       "    .dataframe tbody tr th:only-of-type {\n",
       "        vertical-align: middle;\n",
       "    }\n",
       "\n",
       "    .dataframe tbody tr th {\n",
       "        vertical-align: top;\n",
       "    }\n",
       "\n",
       "    .dataframe thead th {\n",
       "        text-align: right;\n",
       "    }\n",
       "</style>\n",
       "<table border=\"1\" class=\"dataframe\">\n",
       "  <thead>\n",
       "    <tr style=\"text-align: right;\">\n",
       "      <th></th>\n",
       "      <th>Customer ID</th>\n",
       "      <th>Gender</th>\n",
       "      <th>Region</th>\n",
       "      <th>Age</th>\n",
       "      <th>Product Name</th>\n",
       "      <th>Category</th>\n",
       "      <th>Unit Price</th>\n",
       "      <th>Quantity</th>\n",
       "      <th>Total Price</th>\n",
       "      <th>Shipping Fee</th>\n",
       "      <th>Shipping Status</th>\n",
       "      <th>Order Date</th>\n",
       "    </tr>\n",
       "  </thead>\n",
       "  <tbody>\n",
       "    <tr>\n",
       "      <th>0</th>\n",
       "      <td>CUST0268</td>\n",
       "      <td>Male</td>\n",
       "      <td>North</td>\n",
       "      <td>NaN</td>\n",
       "      <td>Monitor</td>\n",
       "      <td>Electronics</td>\n",
       "      <td>300.0</td>\n",
       "      <td>5</td>\n",
       "      <td>1500</td>\n",
       "      <td>13.31</td>\n",
       "      <td>Returned</td>\n",
       "      <td>2023-12-08</td>\n",
       "    </tr>\n",
       "    <tr>\n",
       "      <th>1</th>\n",
       "      <td>CUST0046</td>\n",
       "      <td>Male</td>\n",
       "      <td>West</td>\n",
       "      <td>22.0</td>\n",
       "      <td>Headphones</td>\n",
       "      <td>Accessories</td>\n",
       "      <td>100.0</td>\n",
       "      <td>2</td>\n",
       "      <td>200</td>\n",
       "      <td>6.93</td>\n",
       "      <td>In Transit</td>\n",
       "      <td>2023-04-09</td>\n",
       "    </tr>\n",
       "    <tr>\n",
       "      <th>2</th>\n",
       "      <td>CUST0169</td>\n",
       "      <td>Female</td>\n",
       "      <td>South</td>\n",
       "      <td>54.0</td>\n",
       "      <td>Monitor</td>\n",
       "      <td>Electronics</td>\n",
       "      <td>300.0</td>\n",
       "      <td>1</td>\n",
       "      <td>300</td>\n",
       "      <td>11.31</td>\n",
       "      <td>Returned</td>\n",
       "      <td>2023-08-28</td>\n",
       "    </tr>\n",
       "    <tr>\n",
       "      <th>3</th>\n",
       "      <td>CUST0002</td>\n",
       "      <td>Male</td>\n",
       "      <td>North</td>\n",
       "      <td>23.0</td>\n",
       "      <td>Headphones</td>\n",
       "      <td>Accessories</td>\n",
       "      <td>100.0</td>\n",
       "      <td>5</td>\n",
       "      <td>500</td>\n",
       "      <td>12.22</td>\n",
       "      <td>Delivered</td>\n",
       "      <td>2023-01-18</td>\n",
       "    </tr>\n",
       "    <tr>\n",
       "      <th>4</th>\n",
       "      <td>CUST0173</td>\n",
       "      <td>Female</td>\n",
       "      <td>South</td>\n",
       "      <td>NaN</td>\n",
       "      <td>Laptop</td>\n",
       "      <td>Electronics</td>\n",
       "      <td>1500.0</td>\n",
       "      <td>3</td>\n",
       "      <td>4500</td>\n",
       "      <td>5.40</td>\n",
       "      <td>Delivered</td>\n",
       "      <td>2023-01-19</td>\n",
       "    </tr>\n",
       "    <tr>\n",
       "      <th>...</th>\n",
       "      <td>...</td>\n",
       "      <td>...</td>\n",
       "      <td>...</td>\n",
       "      <td>...</td>\n",
       "      <td>...</td>\n",
       "      <td>...</td>\n",
       "      <td>...</td>\n",
       "      <td>...</td>\n",
       "      <td>...</td>\n",
       "      <td>...</td>\n",
       "      <td>...</td>\n",
       "      <td>...</td>\n",
       "    </tr>\n",
       "    <tr>\n",
       "      <th>995</th>\n",
       "      <td>CUST0201</td>\n",
       "      <td>Female</td>\n",
       "      <td>South</td>\n",
       "      <td>49.0</td>\n",
       "      <td>Headphones</td>\n",
       "      <td>Accessories</td>\n",
       "      <td>100.0</td>\n",
       "      <td>1</td>\n",
       "      <td>100</td>\n",
       "      <td>17.21</td>\n",
       "      <td>In Transit</td>\n",
       "      <td>2023-01-05</td>\n",
       "    </tr>\n",
       "    <tr>\n",
       "      <th>996</th>\n",
       "      <td>CUST0133</td>\n",
       "      <td>Male</td>\n",
       "      <td>East</td>\n",
       "      <td>47.0</td>\n",
       "      <td>Laptop</td>\n",
       "      <td>Electronics</td>\n",
       "      <td>1500.0</td>\n",
       "      <td>1</td>\n",
       "      <td>1500</td>\n",
       "      <td>19.19</td>\n",
       "      <td>Delivered</td>\n",
       "      <td>2023-04-01</td>\n",
       "    </tr>\n",
       "    <tr>\n",
       "      <th>997</th>\n",
       "      <td>CUST0055</td>\n",
       "      <td>Female</td>\n",
       "      <td>North</td>\n",
       "      <td>NaN</td>\n",
       "      <td>Mouse</td>\n",
       "      <td>Accessories</td>\n",
       "      <td>30.0</td>\n",
       "      <td>5</td>\n",
       "      <td>150</td>\n",
       "      <td>19.35</td>\n",
       "      <td>Delivered</td>\n",
       "      <td>2023-10-20</td>\n",
       "    </tr>\n",
       "    <tr>\n",
       "      <th>998</th>\n",
       "      <td>CUST0023</td>\n",
       "      <td>Female</td>\n",
       "      <td>South</td>\n",
       "      <td>29.0</td>\n",
       "      <td>Laptop</td>\n",
       "      <td>Electronics</td>\n",
       "      <td>1500.0</td>\n",
       "      <td>5</td>\n",
       "      <td>7500</td>\n",
       "      <td>10.36</td>\n",
       "      <td>Returned</td>\n",
       "      <td>2023-01-07</td>\n",
       "    </tr>\n",
       "    <tr>\n",
       "      <th>999</th>\n",
       "      <td>CUST0040</td>\n",
       "      <td>Male</td>\n",
       "      <td>NaN</td>\n",
       "      <td>29.0</td>\n",
       "      <td>Smartwatch</td>\n",
       "      <td>Wearables</td>\n",
       "      <td>200.0</td>\n",
       "      <td>1</td>\n",
       "      <td>200</td>\n",
       "      <td>7.53</td>\n",
       "      <td>Delivered</td>\n",
       "      <td>2023-01-30</td>\n",
       "    </tr>\n",
       "  </tbody>\n",
       "</table>\n",
       "<p>1000 rows × 12 columns</p>\n",
       "</div>"
      ],
      "text/plain": [
       "    Customer ID  Gender Region   Age Product Name     Category  Unit Price  \\\n",
       "0      CUST0268    Male  North   NaN      Monitor  Electronics       300.0   \n",
       "1      CUST0046    Male   West  22.0   Headphones  Accessories       100.0   \n",
       "2      CUST0169  Female  South  54.0      Monitor  Electronics       300.0   \n",
       "3      CUST0002    Male  North  23.0   Headphones  Accessories       100.0   \n",
       "4      CUST0173  Female  South   NaN       Laptop  Electronics      1500.0   \n",
       "..          ...     ...    ...   ...          ...          ...         ...   \n",
       "995    CUST0201  Female  South  49.0   Headphones  Accessories       100.0   \n",
       "996    CUST0133    Male   East  47.0       Laptop  Electronics      1500.0   \n",
       "997    CUST0055  Female  North   NaN        Mouse  Accessories        30.0   \n",
       "998    CUST0023  Female  South  29.0       Laptop  Electronics      1500.0   \n",
       "999    CUST0040    Male    NaN  29.0   Smartwatch    Wearables       200.0   \n",
       "\n",
       "     Quantity  Total Price  Shipping Fee Shipping Status  Order Date  \n",
       "0           5         1500         13.31        Returned  2023-12-08  \n",
       "1           2          200          6.93      In Transit  2023-04-09  \n",
       "2           1          300         11.31        Returned  2023-08-28  \n",
       "3           5          500         12.22       Delivered  2023-01-18  \n",
       "4           3         4500          5.40       Delivered  2023-01-19  \n",
       "..        ...          ...           ...             ...         ...  \n",
       "995         1          100         17.21      In Transit  2023-01-05  \n",
       "996         1         1500         19.19       Delivered  2023-04-01  \n",
       "997         5          150         19.35       Delivered  2023-10-20  \n",
       "998         5         7500         10.36        Returned  2023-01-07  \n",
       "999         1          200          7.53       Delivered  2023-01-30  \n",
       "\n",
       "[1000 rows x 12 columns]"
      ]
     },
     "execution_count": 2,
     "metadata": {},
     "output_type": "execute_result"
    }
   ],
   "source": [
    "#This code imports the dataset.\n",
    "dataframe= pd.read_csv(\"C:\\\\Users\\\\clhla\\\\Documents\\\\Python Scripts\\\\Project Dec With Mahlatsi\\\\PROJECTS\\\\Datasets and metadata\\\\realistic_e_commerce_sales_data.csv\")\n",
    "\n",
    "dataframe"
   ]
  },
  {
   "cell_type": "markdown",
   "id": "e39d0aab",
   "metadata": {},
   "source": [
    "## Explore the data and dicsover any data issues that might need to be fixed.\n",
    " \n",
    "### # This includes \n",
    "    \n",
    "        1. Duplicates.\n",
    "        2. Missing data.\n",
    "        3. Consistent formating of the data columns\n",
    "        4. Correct format of the dataset.\n",
    "        5. Checking for Outliers.\n",
    "    "
   ]
  },
  {
   "cell_type": "code",
   "execution_count": 3,
   "id": "52e07e39",
   "metadata": {},
   "outputs": [],
   "source": [
    "dataframe.duplicated()\n",
    "\n",
    "#This code will display data that is duplicated.\n",
    "for i in range (0, 1000):\n",
    "    \n",
    "    if dataframe.duplicated == 'true':\n",
    "        print(dataframe.duplicated)\n",
    "        \n",
    "dataframe.drop_duplicates(inplace= True)"
   ]
  },
  {
   "cell_type": "code",
   "execution_count": 4,
   "id": "190e77d5",
   "metadata": {},
   "outputs": [
    {
     "name": "stdout",
     "output_type": "stream",
     "text": [
      "<class 'pandas.core.frame.DataFrame'>\n",
      "Int64Index: 1000 entries, 0 to 999\n",
      "Data columns (total 12 columns):\n",
      " #   Column           Non-Null Count  Dtype  \n",
      "---  ------           --------------  -----  \n",
      " 0   Customer ID      1000 non-null   object \n",
      " 1   Gender           1000 non-null   object \n",
      " 2   Region           950 non-null    object \n",
      " 3   Age              900 non-null    float64\n",
      " 4   Product Name     1000 non-null   object \n",
      " 5   Category         1000 non-null   object \n",
      " 6   Unit Price       1000 non-null   float64\n",
      " 7   Quantity         1000 non-null   int64  \n",
      " 8   Total Price      1000 non-null   int64  \n",
      " 9   Shipping Fee     1000 non-null   float64\n",
      " 10  Shipping Status  950 non-null    object \n",
      " 11  Order Date       1000 non-null   object \n",
      "dtypes: float64(3), int64(2), object(7)\n",
      "memory usage: 101.6+ KB\n"
     ]
    }
   ],
   "source": [
    "#Take a look at the dataset\n",
    "dataframe.info()"
   ]
  },
  {
   "cell_type": "markdown",
   "id": "959615b1",
   "metadata": {},
   "source": [
    "<h1 align= \"center\">Data issues to be addressed.</h>\n",
    "  \n",
    "\n",
    "   ### The following columns contains missing data\n",
    "    1. Shipping status\n",
    "    2. Region \n",
    "    3. Age\n",
    "\n",
    "   ### Data format issues\n",
    "     1. \"Age \" must be in an integer format.\n",
    "     2.  \"Total price\" must be in a float format.\n",
    "     3. \"Order Date\" must be in a date format.\n",
    "     \n",
    "          \n",
    "  ###  Incorrect data filled in the Total Price\n",
    "  According to metadata the Total Price is \"The total cost paid by the customer, a combination of price and quantity.\"\n",
    "  <br>\n",
    "  <b> Total Price = Unit Price x Quantity </b>\n",
    "     \n",
    "    \n",
    "    \n",
    "  ## Solutions\n",
    "  \n",
    "   1. Remove missing data and do analysis with the remaining data.\n",
    "   2. Fix the data format issues.\n",
    "   \n",
    "  \n",
    "        "
   ]
  },
  {
   "cell_type": "code",
   "execution_count": 5,
   "id": "ef4ce379",
   "metadata": {},
   "outputs": [],
   "source": [
    "dataframe.dropna(inplace = True)"
   ]
  },
  {
   "cell_type": "code",
   "execution_count": 6,
   "id": "b2441ee6",
   "metadata": {},
   "outputs": [
    {
     "name": "stdout",
     "output_type": "stream",
     "text": [
      "<class 'pandas.core.frame.DataFrame'>\n",
      "Int64Index: 810 entries, 1 to 998\n",
      "Data columns (total 12 columns):\n",
      " #   Column           Non-Null Count  Dtype  \n",
      "---  ------           --------------  -----  \n",
      " 0   Customer ID      810 non-null    object \n",
      " 1   Gender           810 non-null    object \n",
      " 2   Region           810 non-null    object \n",
      " 3   Age              810 non-null    float64\n",
      " 4   Product Name     810 non-null    object \n",
      " 5   Category         810 non-null    object \n",
      " 6   Unit Price       810 non-null    float64\n",
      " 7   Quantity         810 non-null    int64  \n",
      " 8   Total Price      810 non-null    int64  \n",
      " 9   Shipping Fee     810 non-null    float64\n",
      " 10  Shipping Status  810 non-null    object \n",
      " 11  Order Date       810 non-null    object \n",
      "dtypes: float64(3), int64(2), object(7)\n",
      "memory usage: 82.3+ KB\n"
     ]
    }
   ],
   "source": [
    "dataframe.info()"
   ]
  },
  {
   "cell_type": "code",
   "execution_count": 7,
   "id": "670df026",
   "metadata": {},
   "outputs": [
    {
     "name": "stdout",
     "output_type": "stream",
     "text": [
      "<class 'pandas.core.frame.DataFrame'>\n",
      "Int64Index: 810 entries, 1 to 998\n",
      "Data columns (total 12 columns):\n",
      " #   Column           Non-Null Count  Dtype         \n",
      "---  ------           --------------  -----         \n",
      " 0   Customer ID      810 non-null    object        \n",
      " 1   Gender           810 non-null    object        \n",
      " 2   Region           810 non-null    object        \n",
      " 3   Age              810 non-null    int32         \n",
      " 4   Product Name     810 non-null    object        \n",
      " 5   Category         810 non-null    object        \n",
      " 6   Unit Price       810 non-null    float64       \n",
      " 7   Quantity         810 non-null    int64         \n",
      " 8   Total Price      810 non-null    float64       \n",
      " 9   Shipping Fee     810 non-null    float64       \n",
      " 10  Shipping Status  810 non-null    object        \n",
      " 11  Order Date       810 non-null    datetime64[ns]\n",
      "dtypes: datetime64[ns](1), float64(3), int32(1), int64(1), object(6)\n",
      "memory usage: 79.1+ KB\n"
     ]
    }
   ],
   "source": [
    "#fixing the data format\n",
    "\n",
    "dataframe['Age']=dataframe['Age'].astype('int')\n",
    "dataframe['Total Price']=dataframe['Age'].astype('float')\n",
    "dataframe['Order Date']=pd.to_datetime(dataframe['Order Date'])\n",
    "dataframe.info()\n"
   ]
  },
  {
   "cell_type": "code",
   "execution_count": null,
   "id": "d2e5a9a7",
   "metadata": {},
   "outputs": [],
   "source": []
  },
  {
   "cell_type": "code",
   "execution_count": 8,
   "id": "11c57426",
   "metadata": {},
   "outputs": [
    {
     "data": {
      "text/html": [
       "<div>\n",
       "<style scoped>\n",
       "    .dataframe tbody tr th:only-of-type {\n",
       "        vertical-align: middle;\n",
       "    }\n",
       "\n",
       "    .dataframe tbody tr th {\n",
       "        vertical-align: top;\n",
       "    }\n",
       "\n",
       "    .dataframe thead th {\n",
       "        text-align: right;\n",
       "    }\n",
       "</style>\n",
       "<table border=\"1\" class=\"dataframe\">\n",
       "  <thead>\n",
       "    <tr style=\"text-align: right;\">\n",
       "      <th></th>\n",
       "      <th>Customer ID</th>\n",
       "      <th>Gender</th>\n",
       "      <th>Region</th>\n",
       "      <th>Age</th>\n",
       "      <th>Product Name</th>\n",
       "      <th>Category</th>\n",
       "      <th>Unit Price</th>\n",
       "      <th>Quantity</th>\n",
       "      <th>Total Price</th>\n",
       "      <th>Shipping Fee</th>\n",
       "      <th>Shipping Status</th>\n",
       "      <th>Order Date</th>\n",
       "    </tr>\n",
       "  </thead>\n",
       "  <tbody>\n",
       "    <tr>\n",
       "      <th>1</th>\n",
       "      <td>CUST0046</td>\n",
       "      <td>Male</td>\n",
       "      <td>West</td>\n",
       "      <td>22</td>\n",
       "      <td>Headphones</td>\n",
       "      <td>Accessories</td>\n",
       "      <td>100.0</td>\n",
       "      <td>2</td>\n",
       "      <td>200.0</td>\n",
       "      <td>6.93</td>\n",
       "      <td>In Transit</td>\n",
       "      <td>2023-04-09</td>\n",
       "    </tr>\n",
       "    <tr>\n",
       "      <th>2</th>\n",
       "      <td>CUST0169</td>\n",
       "      <td>Female</td>\n",
       "      <td>South</td>\n",
       "      <td>54</td>\n",
       "      <td>Monitor</td>\n",
       "      <td>Electronics</td>\n",
       "      <td>300.0</td>\n",
       "      <td>1</td>\n",
       "      <td>300.0</td>\n",
       "      <td>11.31</td>\n",
       "      <td>Returned</td>\n",
       "      <td>2023-08-28</td>\n",
       "    </tr>\n",
       "    <tr>\n",
       "      <th>3</th>\n",
       "      <td>CUST0002</td>\n",
       "      <td>Male</td>\n",
       "      <td>North</td>\n",
       "      <td>23</td>\n",
       "      <td>Headphones</td>\n",
       "      <td>Accessories</td>\n",
       "      <td>100.0</td>\n",
       "      <td>5</td>\n",
       "      <td>500.0</td>\n",
       "      <td>12.22</td>\n",
       "      <td>Delivered</td>\n",
       "      <td>2023-01-18</td>\n",
       "    </tr>\n",
       "    <tr>\n",
       "      <th>5</th>\n",
       "      <td>CUST0147</td>\n",
       "      <td>Male</td>\n",
       "      <td>North</td>\n",
       "      <td>64</td>\n",
       "      <td>Smartwatch</td>\n",
       "      <td>Wearables</td>\n",
       "      <td>200.0</td>\n",
       "      <td>2</td>\n",
       "      <td>400.0</td>\n",
       "      <td>11.26</td>\n",
       "      <td>In Transit</td>\n",
       "      <td>2023-01-11</td>\n",
       "    </tr>\n",
       "    <tr>\n",
       "      <th>6</th>\n",
       "      <td>CUST0262</td>\n",
       "      <td>Male</td>\n",
       "      <td>East</td>\n",
       "      <td>27</td>\n",
       "      <td>Smartwatch</td>\n",
       "      <td>Wearables</td>\n",
       "      <td>200.0</td>\n",
       "      <td>1</td>\n",
       "      <td>200.0</td>\n",
       "      <td>18.38</td>\n",
       "      <td>In Transit</td>\n",
       "      <td>2023-10-23</td>\n",
       "    </tr>\n",
       "  </tbody>\n",
       "</table>\n",
       "</div>"
      ],
      "text/plain": [
       "  Customer ID  Gender Region  Age Product Name     Category  Unit Price  \\\n",
       "1    CUST0046    Male   West   22   Headphones  Accessories       100.0   \n",
       "2    CUST0169  Female  South   54      Monitor  Electronics       300.0   \n",
       "3    CUST0002    Male  North   23   Headphones  Accessories       100.0   \n",
       "5    CUST0147    Male  North   64   Smartwatch    Wearables       200.0   \n",
       "6    CUST0262    Male   East   27   Smartwatch    Wearables       200.0   \n",
       "\n",
       "   Quantity  Total Price  Shipping Fee Shipping Status Order Date  \n",
       "1         2        200.0          6.93      In Transit 2023-04-09  \n",
       "2         1        300.0         11.31        Returned 2023-08-28  \n",
       "3         5        500.0         12.22       Delivered 2023-01-18  \n",
       "5         2        400.0         11.26      In Transit 2023-01-11  \n",
       "6         1        200.0         18.38      In Transit 2023-10-23  "
      ]
     },
     "execution_count": 8,
     "metadata": {},
     "output_type": "execute_result"
    }
   ],
   "source": [
    "#fix the Total Price column data\n",
    "dataframe['Total Price']= dataframe['Unit Price'] * dataframe['Quantity']\n",
    "dataframe.head()"
   ]
  },
  {
   "cell_type": "markdown",
   "id": "b64afde1",
   "metadata": {},
   "source": [
    "## Data cleaning  report.\n",
    "\n",
    "    1. Data is in the correct format\n",
    "    2. about 190 Rows containing mising data were removed\n",
    "    \n",
    "    All the issues are resolved. save the dataset as Cleaned_E_Commerce_and_customer_data.csv"
   ]
  },
  {
   "cell_type": "code",
   "execution_count": 9,
   "id": "904c6b95",
   "metadata": {},
   "outputs": [],
   "source": [
    "dataframe.to_csv(\"C:\\\\Users\\\\clhla\\\\Documents\\\\Python Scripts\\\\Project Dec With Mahlatsi\\\\PROJECTS\\\\Datasets and metadata\\\\Cleaned_E_Commerce_and_customer_data.csv\")"
   ]
  },
  {
   "cell_type": "markdown",
   "id": "a891ee2d",
   "metadata": {},
   "source": [
    "    \n",
    " # Data Grouping and Aggregation\n",
    "  \n",
    "  ### 1.  Counting(Customer ID) grouping.\n",
    "      1. Gender\n",
    "      2. Region\n",
    "      3. Poduct name\n",
    "      4. Shipping status\n",
    "      \n",
    "  \n",
    "  <b>NB</b> Investigate if the total price includes shipping fee by multiplying quantity with unit price and compare the product with shipping fee.\n",
    "  \n",
    "  ### 2. Sales Aggregation\n",
    "  \n",
    "   1. Category, Quantity, and Totol Price generated.\n",
    "   2. Order date(month and date), Total Shiping fee and Total Price.( will help identify a month with highest orders and which date of the month is the store busy.\n",
    "   3. Shipping status, count of orders, total price of order and also the price. \n",
    "   4. Product name, total price, unit price and quantity."
   ]
  },
  {
   "cell_type": "code",
   "execution_count": 10,
   "id": "a68fe701",
   "metadata": {},
   "outputs": [
    {
     "data": {
      "text/html": [
       "<div>\n",
       "<style scoped>\n",
       "    .dataframe tbody tr th:only-of-type {\n",
       "        vertical-align: middle;\n",
       "    }\n",
       "\n",
       "    .dataframe tbody tr th {\n",
       "        vertical-align: top;\n",
       "    }\n",
       "\n",
       "    .dataframe thead th {\n",
       "        text-align: right;\n",
       "    }\n",
       "</style>\n",
       "<table border=\"1\" class=\"dataframe\">\n",
       "  <thead>\n",
       "    <tr style=\"text-align: right;\">\n",
       "      <th></th>\n",
       "      <th>Age</th>\n",
       "      <th>Unit Price</th>\n",
       "      <th>Quantity</th>\n",
       "      <th>Total Price</th>\n",
       "      <th>Shipping Fee</th>\n",
       "    </tr>\n",
       "    <tr>\n",
       "      <th>Gender</th>\n",
       "      <th></th>\n",
       "      <th></th>\n",
       "      <th></th>\n",
       "      <th></th>\n",
       "      <th></th>\n",
       "    </tr>\n",
       "  </thead>\n",
       "  <tbody>\n",
       "    <tr>\n",
       "      <th>Female</th>\n",
       "      <td>17783</td>\n",
       "      <td>170251.484662</td>\n",
       "      <td>1128</td>\n",
       "      <td>472451.122561</td>\n",
       "      <td>4734.06</td>\n",
       "    </tr>\n",
       "    <tr>\n",
       "      <th>Male</th>\n",
       "      <td>19991</td>\n",
       "      <td>193544.525070</td>\n",
       "      <td>1302</td>\n",
       "      <td>599777.785410</td>\n",
       "      <td>5349.15</td>\n",
       "    </tr>\n",
       "  </tbody>\n",
       "</table>\n",
       "</div>"
      ],
      "text/plain": [
       "          Age     Unit Price  Quantity    Total Price  Shipping Fee\n",
       "Gender                                                             \n",
       "Female  17783  170251.484662      1128  472451.122561       4734.06\n",
       "Male    19991  193544.525070      1302  599777.785410       5349.15"
      ]
     },
     "execution_count": 10,
     "metadata": {},
     "output_type": "execute_result"
    }
   ],
   "source": [
    "#Group into Gender\n",
    "Gender_data=dataframe.groupby('Gender').sum()\n",
    "Gender_data\n",
    "\n",
    "#Do a pie chat for this visualization  and find the total price\n",
    "# do another donut chat which will show the Shipping Fee"
   ]
  },
  {
   "cell_type": "code",
   "execution_count": 11,
   "id": "61b6eb73",
   "metadata": {
    "scrolled": true
   },
   "outputs": [
    {
     "data": {
      "text/html": [
       "<div>\n",
       "<style scoped>\n",
       "    .dataframe tbody tr th:only-of-type {\n",
       "        vertical-align: middle;\n",
       "    }\n",
       "\n",
       "    .dataframe tbody tr th {\n",
       "        vertical-align: top;\n",
       "    }\n",
       "\n",
       "    .dataframe thead th {\n",
       "        text-align: right;\n",
       "    }\n",
       "</style>\n",
       "<table border=\"1\" class=\"dataframe\">\n",
       "  <thead>\n",
       "    <tr style=\"text-align: right;\">\n",
       "      <th></th>\n",
       "      <th>Region</th>\n",
       "      <th>Quantity</th>\n",
       "      <th>Total Price</th>\n",
       "      <th>Shipping Fee</th>\n",
       "    </tr>\n",
       "  </thead>\n",
       "  <tbody>\n",
       "    <tr>\n",
       "      <th>0</th>\n",
       "      <td>East</td>\n",
       "      <td>602</td>\n",
       "      <td>272995.296980</td>\n",
       "      <td>2373.81</td>\n",
       "    </tr>\n",
       "    <tr>\n",
       "      <th>1</th>\n",
       "      <td>North</td>\n",
       "      <td>564</td>\n",
       "      <td>257295.296980</td>\n",
       "      <td>2349.22</td>\n",
       "    </tr>\n",
       "    <tr>\n",
       "      <th>2</th>\n",
       "      <td>South</td>\n",
       "      <td>618</td>\n",
       "      <td>256562.601021</td>\n",
       "      <td>2633.73</td>\n",
       "    </tr>\n",
       "    <tr>\n",
       "      <th>3</th>\n",
       "      <td>West</td>\n",
       "      <td>646</td>\n",
       "      <td>285375.712990</td>\n",
       "      <td>2726.45</td>\n",
       "    </tr>\n",
       "  </tbody>\n",
       "</table>\n",
       "</div>"
      ],
      "text/plain": [
       "  Region  Quantity    Total Price  Shipping Fee\n",
       "0   East       602  272995.296980       2373.81\n",
       "1  North       564  257295.296980       2349.22\n",
       "2  South       618  256562.601021       2633.73\n",
       "3   West       646  285375.712990       2726.45"
      ]
     },
     "execution_count": 11,
     "metadata": {},
     "output_type": "execute_result"
    }
   ],
   "source": [
    "#Group by product Region\n",
    "Product_Names=dataframe[['Region','Quantity','Total Price','Shipping Fee']].groupby('Region').sum()\n",
    "#Product_Names['Region']\n",
    "Product_Names.reset_index(inplace=True)\n",
    "Product_Names"
   ]
  },
  {
   "cell_type": "code",
   "execution_count": 12,
   "id": "05b7d995",
   "metadata": {},
   "outputs": [],
   "source": [
    "#####try outs\n",
    "\n",
    "\n",
    "#Group by product Region\n",
    "Product_Names=dataframe[['Region','Quantity','Total Price','Shipping Fee']]\n",
    "#Product_Names['Region']\n",
    "ps = Product_Names[['Quantity','Total Price','Shipping Fee']]\n",
    "for col in Product_Names:\n",
    "    if col == ['Quantity','Total Price','Shipping Fee']:\n",
    "        pt = Product_Names.sum()\n",
    "    else:\n",
    "        print\n",
    "\n",
    "\n",
    " \n",
    "\n"
   ]
  },
  {
   "cell_type": "code",
   "execution_count": 13,
   "id": "04c357c3",
   "metadata": {},
   "outputs": [
    {
     "name": "stdout",
     "output_type": "stream",
     "text": [
      "<class 'pandas.core.frame.DataFrame'>\n",
      "Int64Index: 810 entries, 1 to 998\n",
      "Data columns (total 4 columns):\n",
      " #   Column        Non-Null Count  Dtype  \n",
      "---  ------        --------------  -----  \n",
      " 0   Region        810 non-null    object \n",
      " 1   Quantity      810 non-null    int64  \n",
      " 2   Total Price   810 non-null    float64\n",
      " 3   Shipping Fee  810 non-null    float64\n",
      "dtypes: float64(2), int64(1), object(1)\n",
      "memory usage: 31.6+ KB\n"
     ]
    }
   ],
   "source": [
    "Product_Names.info()"
   ]
  },
  {
   "cell_type": "code",
   "execution_count": 14,
   "id": "6f9078b0",
   "metadata": {},
   "outputs": [
    {
     "data": {
      "text/html": [
       "<div>\n",
       "<style scoped>\n",
       "    .dataframe tbody tr th:only-of-type {\n",
       "        vertical-align: middle;\n",
       "    }\n",
       "\n",
       "    .dataframe tbody tr th {\n",
       "        vertical-align: top;\n",
       "    }\n",
       "\n",
       "    .dataframe thead th {\n",
       "        text-align: right;\n",
       "    }\n",
       "</style>\n",
       "<table border=\"1\" class=\"dataframe\">\n",
       "  <thead>\n",
       "    <tr style=\"text-align: right;\">\n",
       "      <th></th>\n",
       "      <th>Category</th>\n",
       "      <th>Quantity</th>\n",
       "      <th>Total Price</th>\n",
       "      <th>Shipping Fee</th>\n",
       "    </tr>\n",
       "  </thead>\n",
       "  <tbody>\n",
       "    <tr>\n",
       "      <th>0</th>\n",
       "      <td>Accessories</td>\n",
       "      <td>996</td>\n",
       "      <td>59524.275559</td>\n",
       "      <td>3908.82</td>\n",
       "    </tr>\n",
       "    <tr>\n",
       "      <th>1</th>\n",
       "      <td>Electronics</td>\n",
       "      <td>1116</td>\n",
       "      <td>949104.632411</td>\n",
       "      <td>4903.31</td>\n",
       "    </tr>\n",
       "    <tr>\n",
       "      <th>2</th>\n",
       "      <td>Wearables</td>\n",
       "      <td>318</td>\n",
       "      <td>63600.000000</td>\n",
       "      <td>1271.08</td>\n",
       "    </tr>\n",
       "  </tbody>\n",
       "</table>\n",
       "</div>"
      ],
      "text/plain": [
       "      Category  Quantity    Total Price  Shipping Fee\n",
       "0  Accessories       996   59524.275559       3908.82\n",
       "1  Electronics      1116  949104.632411       4903.31\n",
       "2    Wearables       318   63600.000000       1271.08"
      ]
     },
     "execution_count": 14,
     "metadata": {},
     "output_type": "execute_result"
    }
   ],
   "source": [
    "#Group by product name\n",
    "Category_group=dataframe[['Quantity','Total Price','Shipping Fee','Category']].groupby('Category').sum()\n",
    "Category_group.reset_index(inplace=True)\n",
    "Category_group\n"
   ]
  },
  {
   "cell_type": "code",
   "execution_count": 15,
   "id": "dc26e10f",
   "metadata": {},
   "outputs": [
    {
     "data": {
      "text/html": [
       "<div>\n",
       "<style scoped>\n",
       "    .dataframe tbody tr th:only-of-type {\n",
       "        vertical-align: middle;\n",
       "    }\n",
       "\n",
       "    .dataframe tbody tr th {\n",
       "        vertical-align: top;\n",
       "    }\n",
       "\n",
       "    .dataframe thead th {\n",
       "        text-align: right;\n",
       "    }\n",
       "</style>\n",
       "<table border=\"1\" class=\"dataframe\">\n",
       "  <thead>\n",
       "    <tr style=\"text-align: right;\">\n",
       "      <th></th>\n",
       "      <th>Shipping Status</th>\n",
       "      <th>Quantity</th>\n",
       "      <th>Total Price</th>\n",
       "      <th>Shipping Fee</th>\n",
       "    </tr>\n",
       "  </thead>\n",
       "  <tbody>\n",
       "    <tr>\n",
       "      <th>0</th>\n",
       "      <td>Delivered</td>\n",
       "      <td>803</td>\n",
       "      <td>351942.583369</td>\n",
       "      <td>3323.86</td>\n",
       "    </tr>\n",
       "    <tr>\n",
       "      <th>1</th>\n",
       "      <td>In Transit</td>\n",
       "      <td>854</td>\n",
       "      <td>374337.114164</td>\n",
       "      <td>3663.72</td>\n",
       "    </tr>\n",
       "    <tr>\n",
       "      <th>2</th>\n",
       "      <td>Returned</td>\n",
       "      <td>773</td>\n",
       "      <td>345949.210438</td>\n",
       "      <td>3095.63</td>\n",
       "    </tr>\n",
       "  </tbody>\n",
       "</table>\n",
       "</div>"
      ],
      "text/plain": [
       "  Shipping Status  Quantity    Total Price  Shipping Fee\n",
       "0       Delivered       803  351942.583369       3323.86\n",
       "1      In Transit       854  374337.114164       3663.72\n",
       "2        Returned       773  345949.210438       3095.63"
      ]
     },
     "execution_count": 15,
     "metadata": {},
     "output_type": "execute_result"
    }
   ],
   "source": [
    "#Group by shipping status.\n",
    "Shipping_Status_data=dataframe[['Shipping Status','Quantity','Total Price','Shipping Fee']].groupby('Shipping Status').sum()\n",
    "Shipping_Status_data.reset_index(inplace=True)\n",
    "Shipping_Status_data\n",
    "\n",
    "\n"
   ]
  },
  {
   "cell_type": "code",
   "execution_count": 16,
   "id": "30591669",
   "metadata": {},
   "outputs": [
    {
     "data": {
      "text/html": [
       "<div>\n",
       "<style scoped>\n",
       "    .dataframe tbody tr th:only-of-type {\n",
       "        vertical-align: middle;\n",
       "    }\n",
       "\n",
       "    .dataframe tbody tr th {\n",
       "        vertical-align: top;\n",
       "    }\n",
       "\n",
       "    .dataframe thead th {\n",
       "        text-align: right;\n",
       "    }\n",
       "</style>\n",
       "<table border=\"1\" class=\"dataframe\">\n",
       "  <thead>\n",
       "    <tr style=\"text-align: right;\">\n",
       "      <th></th>\n",
       "      <th>Quantity</th>\n",
       "      <th>Total Price</th>\n",
       "      <th>Shipping Fee</th>\n",
       "    </tr>\n",
       "    <tr>\n",
       "      <th>Product Name</th>\n",
       "      <th></th>\n",
       "      <th></th>\n",
       "      <th></th>\n",
       "    </tr>\n",
       "  </thead>\n",
       "  <tbody>\n",
       "    <tr>\n",
       "      <th>Headphones</th>\n",
       "      <td>304</td>\n",
       "      <td>30721.912122</td>\n",
       "      <td>1195.22</td>\n",
       "    </tr>\n",
       "    <tr>\n",
       "      <th>Keyboard</th>\n",
       "      <td>371</td>\n",
       "      <td>18979.216163</td>\n",
       "      <td>1445.57</td>\n",
       "    </tr>\n",
       "    <tr>\n",
       "      <th>Laptop</th>\n",
       "      <td>351</td>\n",
       "      <td>539376.484900</td>\n",
       "      <td>1494.00</td>\n",
       "    </tr>\n",
       "    <tr>\n",
       "      <th>Monitor</th>\n",
       "      <td>423</td>\n",
       "      <td>130119.121225</td>\n",
       "      <td>2011.89</td>\n",
       "    </tr>\n",
       "    <tr>\n",
       "      <th>Mouse</th>\n",
       "      <td>321</td>\n",
       "      <td>9823.147273</td>\n",
       "      <td>1268.03</td>\n",
       "    </tr>\n",
       "    <tr>\n",
       "      <th>Smartphone</th>\n",
       "      <td>342</td>\n",
       "      <td>279609.026287</td>\n",
       "      <td>1397.42</td>\n",
       "    </tr>\n",
       "    <tr>\n",
       "      <th>Smartwatch</th>\n",
       "      <td>318</td>\n",
       "      <td>63600.000000</td>\n",
       "      <td>1271.08</td>\n",
       "    </tr>\n",
       "  </tbody>\n",
       "</table>\n",
       "</div>"
      ],
      "text/plain": [
       "              Quantity    Total Price  Shipping Fee\n",
       "Product Name                                       \n",
       "Headphones         304   30721.912122       1195.22\n",
       "Keyboard           371   18979.216163       1445.57\n",
       "Laptop             351  539376.484900       1494.00\n",
       "Monitor            423  130119.121225       2011.89\n",
       "Mouse              321    9823.147273       1268.03\n",
       "Smartphone         342  279609.026287       1397.42\n",
       "Smartwatch         318   63600.000000       1271.08"
      ]
     },
     "execution_count": 16,
     "metadata": {},
     "output_type": "execute_result"
    }
   ],
   "source": [
    "# Group by product name\n",
    "Product_name_group=dataframe[['Product Name','Quantity','Total Price','Shipping Fee']].groupby('Product Name').sum()\n",
    "Product_name_group"
   ]
  },
  {
   "cell_type": "code",
   "execution_count": 17,
   "id": "3fc897be",
   "metadata": {},
   "outputs": [
    {
     "data": {
      "text/html": [
       "<div>\n",
       "<style scoped>\n",
       "    .dataframe tbody tr th:only-of-type {\n",
       "        vertical-align: middle;\n",
       "    }\n",
       "\n",
       "    .dataframe tbody tr th {\n",
       "        vertical-align: top;\n",
       "    }\n",
       "\n",
       "    .dataframe thead th {\n",
       "        text-align: right;\n",
       "    }\n",
       "</style>\n",
       "<table border=\"1\" class=\"dataframe\">\n",
       "  <thead>\n",
       "    <tr style=\"text-align: right;\">\n",
       "      <th></th>\n",
       "      <th>Region</th>\n",
       "      <th>Quantity</th>\n",
       "      <th>Total Price</th>\n",
       "      <th>Shipping Fee</th>\n",
       "    </tr>\n",
       "  </thead>\n",
       "  <tbody>\n",
       "    <tr>\n",
       "      <th>0</th>\n",
       "      <td>East</td>\n",
       "      <td>602</td>\n",
       "      <td>272995.296980</td>\n",
       "      <td>2373.81</td>\n",
       "    </tr>\n",
       "    <tr>\n",
       "      <th>1</th>\n",
       "      <td>North</td>\n",
       "      <td>564</td>\n",
       "      <td>257295.296980</td>\n",
       "      <td>2349.22</td>\n",
       "    </tr>\n",
       "    <tr>\n",
       "      <th>2</th>\n",
       "      <td>South</td>\n",
       "      <td>618</td>\n",
       "      <td>256562.601021</td>\n",
       "      <td>2633.73</td>\n",
       "    </tr>\n",
       "    <tr>\n",
       "      <th>3</th>\n",
       "      <td>West</td>\n",
       "      <td>646</td>\n",
       "      <td>285375.712990</td>\n",
       "      <td>2726.45</td>\n",
       "    </tr>\n",
       "  </tbody>\n",
       "</table>\n",
       "</div>"
      ],
      "text/plain": [
       "  Region  Quantity    Total Price  Shipping Fee\n",
       "0   East       602  272995.296980       2373.81\n",
       "1  North       564  257295.296980       2349.22\n",
       "2  South       618  256562.601021       2633.73\n",
       "3   West       646  285375.712990       2726.45"
      ]
     },
     "execution_count": 17,
     "metadata": {},
     "output_type": "execute_result"
    }
   ],
   "source": [
    "Region_data=dataframe[['Region','Quantity','Total Price','Shipping Fee']].groupby('Region').sum()\n",
    "Region_data.reset_index(inplace=True)\n",
    "Region_data"
   ]
  },
  {
   "cell_type": "markdown",
   "id": "3e7a3903",
   "metadata": {},
   "source": [
    "<h1 align=\"center\">Basic Data analytics and visualizations </h1>\n",
    "\n",
    "## Use the following guidelines to  visualize the data\n",
    "\n",
    "  1. Use Bar chart to visualize the <b> Quantity </b>\n",
    "  2. Use column chart to Visualze the <b> Total Price </b>\n",
    "  3. Use Donut chart to Visualize the  <b> Shipping Fee </b>\n",
    "  \n",
    "  \n",
    "## The following are the categories to visualize.\n",
    "\n",
    "1. Shipping Status\n",
    "2. Category\n",
    "3. Product Name\n",
    "4. Location\n",
    "\n",
    "<b> Show the distribution of the Shipping Fee according to the Location and Category and Product Name <b> Use the Hirachy chart </b> to visualize this.\n",
    "    "
   ]
  },
  {
   "cell_type": "markdown",
   "id": "bce70eda",
   "metadata": {},
   "source": [
    "<h3 align = \"center\">Shipping status analysis <h3>\n",
    "\n",
    "\n"
   ]
  },
  {
   "cell_type": "code",
   "execution_count": 18,
   "id": "13d6285b",
   "metadata": {},
   "outputs": [
    {
     "data": {
      "image/png": "[encoded data removed]",
      "text/plain": [
       "<Figure size 500x500 with 1 Axes>"
      ]
     },
     "metadata": {},
     "output_type": "display_data"
    }
   ],
   "source": [
    "sns.catplot(data=dataframe, x=\"Region\", y= \"Total Price\", kind=\"box\")\n",
    "plt.show()"
   ]
  },
  {
   "cell_type": "markdown",
   "id": "c6b8a428",
   "metadata": {},
   "source": [
    "#### Shipping status versus Sheeping Fee"
   ]
  },
  {
   "cell_type": "code",
   "execution_count": 19,
   "id": "b0a91fb5",
   "metadata": {},
   "outputs": [
    {
     "data": {
      "image/png": "[encoded data removed]",
      "text/plain": [
       "<Figure size 640x480 with 1 Axes>"
      ]
     },
     "metadata": {},
     "output_type": "display_data"
    }
   ],
   "source": [
    "# Create a column Chart\n",
    "#Creat a bar plot of Shipping status against Total Price Generated\n",
    "Shipping_Total_Price = sns.barplot(data= Shipping_Status_data, x=\"Shipping Status\", y= \"Total Price\")\n",
    "plt.show(Shipping_Total_Price)"
   ]
  },
  {
   "cell_type": "markdown",
   "id": "01d1275d",
   "metadata": {},
   "source": [
    "### Analysis\n",
    "\n",
    "Goods that are still in transit have the highest Total Price genetated followed by Goods that are already Delivered."
   ]
  },
  {
   "cell_type": "markdown",
   "id": "ea1e27f7",
   "metadata": {},
   "source": [
    "#### Quantity of Products per shipping status"
   ]
  },
  {
   "cell_type": "code",
   "execution_count": 20,
   "id": "8cecb60d",
   "metadata": {},
   "outputs": [
    {
     "data": {
      "image/png": "[encoded data removed]",
      "text/plain": [
       "<Figure size 640x480 with 1 Axes>"
      ]
     },
     "metadata": {},
     "output_type": "display_data"
    }
   ],
   "source": [
    "#Creat a bar plot of Shipping status against Shipping Fee\n",
    "Shipping_Count = sns.barplot(data= Shipping_Status_data, y=\"Shipping Status\", x= \"Quantity\")\n",
    "plt.show(Shipping_Count)\n"
   ]
  },
  {
   "cell_type": "markdown",
   "id": "6de5db87",
   "metadata": {},
   "source": [
    "### Analysis\n",
    "\n",
    "The Graph shows the Highest Quantity of Goods being In Transit as compared to the ones that are delievered and the ones that are returned."
   ]
  },
  {
   "cell_type": "code",
   "execution_count": 21,
   "id": "392dc5a0",
   "metadata": {},
   "outputs": [
    {
     "data": {
      "image/png": "[encoded data removed]",
      "text/plain": [
       "<Figure size 640x480 with 1 Axes>"
      ]
     },
     "metadata": {},
     "output_type": "display_data"
    }
   ],
   "source": [
    "#Pie chat of  Shipping status versus  Shipping Fee\n",
    "\n",
    "Shipping_fee= Shipping_Status_data['Shipping Fee']\n",
    "Shipping_Status=  Shipping_Status_data['Shipping Status']\n",
    "\n",
    "\n",
    "\n",
    "Shipping_Status_Pie= plt.pie(x=Shipping_fee, labels= Shipping_Status, autopct='%.1f%%')\n",
    "plt.show()\n",
    "\n"
   ]
  },
  {
   "cell_type": "markdown",
   "id": "31d47ce5",
   "metadata": {},
   "source": [
    "### Analysis: \n",
    "\n",
    "The chat shows that the is almost an equal distribution of the Shipping Fee in the delievaery status.\n",
    "\n",
    "\n",
    "### Conclusion\n",
    "\n",
    "While the \"Delievered\" Goods and Goods that are still in transit are doing well in terms of Total Price, Shipping Fee, and Quantity, there is is till an alarming high numbers of Goods that are returned. An indepth analysis will follow to thry and identify the specific region, specific Product and specific order month or date."
   ]
  },
  {
   "cell_type": "markdown",
   "id": "10307b02",
   "metadata": {},
   "source": [
    "<h3 align=\"center\">  Category  Analysis </h3>"
   ]
  },
  {
   "cell_type": "markdown",
   "id": "2e827f17",
   "metadata": {},
   "source": [
    "#### Shipping Fee per Category"
   ]
  },
  {
   "cell_type": "code",
   "execution_count": null,
   "id": "1f2b99f0",
   "metadata": {},
   "outputs": [],
   "source": []
  },
  {
   "cell_type": "code",
   "execution_count": 22,
   "id": "1fd70b32",
   "metadata": {
    "scrolled": true
   },
   "outputs": [
    {
     "data": {
      "image/png": "[encoded data removed]",
      "text/plain": [
       "<Figure size 640x480 with 1 Axes>"
      ]
     },
     "metadata": {},
     "output_type": "display_data"
    }
   ],
   "source": [
    "# Create a bar plot of Category against Shipping Fee\n",
    "Category_Graph_Total_Price=sns.barplot(data=Category_group, x=\"Category\", y=\"Shipping Fee\")\n",
    "plt.show(Category_Graph_Total_Price)"
   ]
  },
  {
   "cell_type": "code",
   "execution_count": null,
   "id": "d94b8cf8",
   "metadata": {},
   "outputs": [],
   "source": []
  },
  {
   "cell_type": "code",
   "execution_count": 23,
   "id": "c079267b",
   "metadata": {},
   "outputs": [
    {
     "data": {
      "image/png": "[encoded data removed]",
      "text/plain": [
       "<Figure size 640x480 with 1 Axes>"
      ]
     },
     "metadata": {},
     "output_type": "display_data"
    }
   ],
   "source": [
    "Category_Bar=sns.barplot(data= Category_group, x=\"Quantity\", y=\"Category\")\n",
    "plt.show(Category_Bar)\n"
   ]
  },
  {
   "cell_type": "code",
   "execution_count": 24,
   "id": "a1856d35",
   "metadata": {},
   "outputs": [
    {
     "data": {
      "image/png": "[encoded data removed]",
      "text/plain": [
       "<Figure size 640x480 with 1 Axes>"
      ]
     },
     "metadata": {},
     "output_type": "display_data"
    }
   ],
   "source": [
    "# Create a bar plot of Category against Shipping Fee\n",
    "\n",
    "#first extract columns in the dataframe\n",
    "Category=Category_group['Category']\n",
    "Category_labels=Category_group['Shipping Fee']\n",
    "\n",
    "#plot pie chart\n",
    "plt.pie(x= Category_labels, labels= Category, autopct='%.1f%%')\n",
    "plt.show()"
   ]
  },
  {
   "cell_type": "markdown",
   "id": "42e5ff5e",
   "metadata": {},
   "source": [
    "<h3 align=\"center\">  Regional Analysis </h3>\n",
    "<br>\n",
    "<br>\n",
    "\n",
    "#### Total Price per region"
   ]
  },
  {
   "cell_type": "code",
   "execution_count": 25,
   "id": "7810df97",
   "metadata": {},
   "outputs": [
    {
     "data": {
      "image/png": "[encoded data removed]",
      "text/plain": [
       "<Figure size 640x480 with 1 Axes>"
      ]
     },
     "metadata": {},
     "output_type": "display_data"
    }
   ],
   "source": [
    "region_total= sns.barplot(data=Region_data, x=\"Region\" , y=\"Total Price\" )\n",
    "plt.show(region_total)"
   ]
  },
  {
   "cell_type": "markdown",
   "id": "88ad4a05",
   "metadata": {},
   "source": [
    "#### Quantity of Products Per Region\n"
   ]
  },
  {
   "cell_type": "code",
   "execution_count": 26,
   "id": "a226a292",
   "metadata": {},
   "outputs": [
    {
     "data": {
      "image/png": "[encoded data removed]",
      "text/plain": [
       "<Figure size 640x480 with 1 Axes>"
      ]
     },
     "metadata": {},
     "output_type": "display_data"
    }
   ],
   "source": [
    "region_count= sns.barplot(data=Region_data , y=\"Region\" , x=\"Quantity\" )\n",
    "plt.show(region_count)"
   ]
  },
  {
   "cell_type": "code",
   "execution_count": 27,
   "id": "46d03a6f",
   "metadata": {},
   "outputs": [
    {
     "data": {
      "image/png": "[encoded data removed]",
      "text/plain": [
       "<Figure size 640x480 with 1 Axes>"
      ]
     },
     "metadata": {},
     "output_type": "display_data"
    }
   ],
   "source": [
    "region_labels= Region_data['Shipping Fee']\n",
    "region=Region_data['Region']\n",
    "\n",
    "region_pie=plt.pie(x=region_labels , labels =region, autopct='%.1f%%')\n",
    "plt.show()"
   ]
  },
  {
   "cell_type": "markdown",
   "id": "5706b3cc",
   "metadata": {},
   "source": [
    "<h1 align= \"center\"> Indepth analysis of Goods that are returned </h1> "
   ]
  },
  {
   "cell_type": "code",
   "execution_count": 28,
   "id": "28647806",
   "metadata": {},
   "outputs": [
    {
     "data": {
      "text/html": [
       "<div>\n",
       "<style scoped>\n",
       "    .dataframe tbody tr th:only-of-type {\n",
       "        vertical-align: middle;\n",
       "    }\n",
       "\n",
       "    .dataframe tbody tr th {\n",
       "        vertical-align: top;\n",
       "    }\n",
       "\n",
       "    .dataframe thead th {\n",
       "        text-align: right;\n",
       "    }\n",
       "</style>\n",
       "<table border=\"1\" class=\"dataframe\">\n",
       "  <thead>\n",
       "    <tr style=\"text-align: right;\">\n",
       "      <th></th>\n",
       "      <th>index</th>\n",
       "      <th>Customer ID</th>\n",
       "      <th>Gender</th>\n",
       "      <th>Region</th>\n",
       "      <th>Age</th>\n",
       "      <th>Product Name</th>\n",
       "      <th>Category</th>\n",
       "      <th>Unit Price</th>\n",
       "      <th>Quantity</th>\n",
       "      <th>Total Price</th>\n",
       "      <th>Shipping Fee</th>\n",
       "      <th>Shipping Status</th>\n",
       "      <th>Order Date</th>\n",
       "    </tr>\n",
       "  </thead>\n",
       "  <tbody>\n",
       "    <tr>\n",
       "      <th>0</th>\n",
       "      <td>3</td>\n",
       "      <td>CUST0002</td>\n",
       "      <td>Male</td>\n",
       "      <td>North</td>\n",
       "      <td>23</td>\n",
       "      <td>Headphones</td>\n",
       "      <td>Accessories</td>\n",
       "      <td>100.0</td>\n",
       "      <td>5</td>\n",
       "      <td>500.0</td>\n",
       "      <td>12.22</td>\n",
       "      <td>Delivered</td>\n",
       "      <td>2023-01-18</td>\n",
       "    </tr>\n",
       "    <tr>\n",
       "      <th>1</th>\n",
       "      <td>9</td>\n",
       "      <td>CUST0023</td>\n",
       "      <td>Male</td>\n",
       "      <td>West</td>\n",
       "      <td>29</td>\n",
       "      <td>Headphones</td>\n",
       "      <td>Accessories</td>\n",
       "      <td>100.0</td>\n",
       "      <td>3</td>\n",
       "      <td>300.0</td>\n",
       "      <td>10.70</td>\n",
       "      <td>Delivered</td>\n",
       "      <td>2023-04-23</td>\n",
       "    </tr>\n",
       "    <tr>\n",
       "      <th>2</th>\n",
       "      <td>12</td>\n",
       "      <td>CUST0199</td>\n",
       "      <td>Female</td>\n",
       "      <td>West</td>\n",
       "      <td>41</td>\n",
       "      <td>Keyboard</td>\n",
       "      <td>Accessories</td>\n",
       "      <td>50.0</td>\n",
       "      <td>5</td>\n",
       "      <td>250.0</td>\n",
       "      <td>7.13</td>\n",
       "      <td>Delivered</td>\n",
       "      <td>2023-02-17</td>\n",
       "    </tr>\n",
       "    <tr>\n",
       "      <th>3</th>\n",
       "      <td>20</td>\n",
       "      <td>CUST0283</td>\n",
       "      <td>Female</td>\n",
       "      <td>East</td>\n",
       "      <td>67</td>\n",
       "      <td>Smartphone</td>\n",
       "      <td>Electronics</td>\n",
       "      <td>800.0</td>\n",
       "      <td>5</td>\n",
       "      <td>4000.0</td>\n",
       "      <td>12.17</td>\n",
       "      <td>Delivered</td>\n",
       "      <td>2023-11-08</td>\n",
       "    </tr>\n",
       "    <tr>\n",
       "      <th>4</th>\n",
       "      <td>25</td>\n",
       "      <td>CUST0042</td>\n",
       "      <td>Female</td>\n",
       "      <td>South</td>\n",
       "      <td>57</td>\n",
       "      <td>Keyboard</td>\n",
       "      <td>Accessories</td>\n",
       "      <td>50.0</td>\n",
       "      <td>1</td>\n",
       "      <td>50.0</td>\n",
       "      <td>9.60</td>\n",
       "      <td>Delivered</td>\n",
       "      <td>2023-12-04</td>\n",
       "    </tr>\n",
       "  </tbody>\n",
       "</table>\n",
       "</div>"
      ],
      "text/plain": [
       "   index Customer ID  Gender Region  Age Product Name     Category  \\\n",
       "0      3    CUST0002    Male  North   23   Headphones  Accessories   \n",
       "1      9    CUST0023    Male   West   29   Headphones  Accessories   \n",
       "2     12    CUST0199  Female   West   41     Keyboard  Accessories   \n",
       "3     20    CUST0283  Female   East   67   Smartphone  Electronics   \n",
       "4     25    CUST0042  Female  South   57     Keyboard  Accessories   \n",
       "\n",
       "   Unit Price  Quantity  Total Price  Shipping Fee Shipping Status Order Date  \n",
       "0       100.0         5        500.0         12.22       Delivered 2023-01-18  \n",
       "1       100.0         3        300.0         10.70       Delivered 2023-04-23  \n",
       "2        50.0         5        250.0          7.13       Delivered 2023-02-17  \n",
       "3       800.0         5       4000.0         12.17       Delivered 2023-11-08  \n",
       "4        50.0         1         50.0          9.60       Delivered 2023-12-04  "
      ]
     },
     "execution_count": 28,
     "metadata": {},
     "output_type": "execute_result"
    }
   ],
   "source": [
    "# Filter the data and Show the dataset where the delivery status is returned.\n",
    "\n",
    "Returned_dataframe= dataframe[dataframe['Shipping Status']==\"Delivered\"]\n",
    "Returned_dataframe.reset_index(inplace = True)\n",
    "Returned_dataframe.head()"
   ]
  },
  {
   "cell_type": "code",
   "execution_count": 29,
   "id": "4a14d65a",
   "metadata": {},
   "outputs": [
    {
     "name": "stdout",
     "output_type": "stream",
     "text": [
      "<class 'pandas.core.frame.DataFrame'>\n",
      "RangeIndex: 268 entries, 0 to 267\n",
      "Data columns (total 13 columns):\n",
      " #   Column           Non-Null Count  Dtype         \n",
      "---  ------           --------------  -----         \n",
      " 0   index            268 non-null    int64         \n",
      " 1   Customer ID      268 non-null    object        \n",
      " 2   Gender           268 non-null    object        \n",
      " 3   Region           268 non-null    object        \n",
      " 4   Age              268 non-null    int32         \n",
      " 5   Product Name     268 non-null    object        \n",
      " 6   Category         268 non-null    object        \n",
      " 7   Unit Price       268 non-null    float64       \n",
      " 8   Quantity         268 non-null    int64         \n",
      " 9   Total Price      268 non-null    float64       \n",
      " 10  Shipping Fee     268 non-null    float64       \n",
      " 11  Shipping Status  268 non-null    object        \n",
      " 12  Order Date       268 non-null    datetime64[ns]\n",
      "dtypes: datetime64[ns](1), float64(3), int32(1), int64(2), object(6)\n",
      "memory usage: 26.3+ KB\n"
     ]
    }
   ],
   "source": [
    "Returned_dataframe.info()"
   ]
  },
  {
   "cell_type": "markdown",
   "id": "bd57a81d",
   "metadata": {},
   "source": [
    "### Aggrigate the data according to:\n",
    "\n",
    "    1. Category name\n",
    "    2. Region\n",
    "    3. Category\n",
    "    4. "
   ]
  },
  {
   "cell_type": "code",
   "execution_count": 30,
   "id": "1ae5b65d",
   "metadata": {},
   "outputs": [
    {
     "data": {
      "text/html": [
       "<div>\n",
       "<style scoped>\n",
       "    .dataframe tbody tr th:only-of-type {\n",
       "        vertical-align: middle;\n",
       "    }\n",
       "\n",
       "    .dataframe tbody tr th {\n",
       "        vertical-align: top;\n",
       "    }\n",
       "\n",
       "    .dataframe thead th {\n",
       "        text-align: right;\n",
       "    }\n",
       "</style>\n",
       "<table border=\"1\" class=\"dataframe\">\n",
       "  <thead>\n",
       "    <tr style=\"text-align: right;\">\n",
       "      <th></th>\n",
       "      <th>Category</th>\n",
       "      <th>Quantity</th>\n",
       "      <th>Total Price</th>\n",
       "      <th>Shipping Fee</th>\n",
       "    </tr>\n",
       "  </thead>\n",
       "  <tbody>\n",
       "    <tr>\n",
       "      <th>0</th>\n",
       "      <td>Accessories</td>\n",
       "      <td>347</td>\n",
       "      <td>21072.868184</td>\n",
       "      <td>1305.33</td>\n",
       "    </tr>\n",
       "    <tr>\n",
       "      <th>1</th>\n",
       "      <td>Electronics</td>\n",
       "      <td>355</td>\n",
       "      <td>310669.715185</td>\n",
       "      <td>1585.19</td>\n",
       "    </tr>\n",
       "    <tr>\n",
       "      <th>2</th>\n",
       "      <td>Wearables</td>\n",
       "      <td>101</td>\n",
       "      <td>20200.000000</td>\n",
       "      <td>433.34</td>\n",
       "    </tr>\n",
       "  </tbody>\n",
       "</table>\n",
       "</div>"
      ],
      "text/plain": [
       "      Category  Quantity    Total Price  Shipping Fee\n",
       "0  Accessories       347   21072.868184       1305.33\n",
       "1  Electronics       355  310669.715185       1585.19\n",
       "2    Wearables       101   20200.000000        433.34"
      ]
     },
     "execution_count": 30,
     "metadata": {},
     "output_type": "execute_result"
    }
   ],
   "source": [
    "Returned_dataframe_Category= Returned_dataframe[['Category','Quantity','Total Price','Shipping Fee']].groupby('Category').sum()\n",
    "Returned_dataframe_Category.reset_index(inplace= True)\n",
    "Returned_dataframe_Category"
   ]
  },
  {
   "cell_type": "code",
   "execution_count": 73,
   "id": "ddc61436",
   "metadata": {},
   "outputs": [
    {
     "data": {
      "image/png": "[encoded data removed]",
      "text/plain": [
       "<Figure size 640x480 with 1 Axes>"
      ]
     },
     "metadata": {},
     "output_type": "display_data"
    }
   ],
   "source": [
    "category_returned=sns.barplot(data=Returned_dataframe_Category, y=\"Category\", x=\"Quantity\")\n",
    "plt.show()"
   ]
  },
  {
   "cell_type": "code",
   "execution_count": 75,
   "id": "bb804061",
   "metadata": {},
   "outputs": [
    {
     "data": {
      "image/png": "[encoded data removed]",
      "text/plain": [
       "<Figure size 640x480 with 1 Axes>"
      ]
     },
     "metadata": {},
     "output_type": "display_data"
    }
   ],
   "source": [
    "category_returned=sns.barplot(data=Returned_dataframe_Category, y=\"Total Price\", x=\"Category\")\n",
    "plt.show()"
   ]
  },
  {
   "cell_type": "code",
   "execution_count": 31,
   "id": "c3e0fe75",
   "metadata": {},
   "outputs": [
    {
     "data": {
      "text/html": [
       "<div>\n",
       "<style scoped>\n",
       "    .dataframe tbody tr th:only-of-type {\n",
       "        vertical-align: middle;\n",
       "    }\n",
       "\n",
       "    .dataframe tbody tr th {\n",
       "        vertical-align: top;\n",
       "    }\n",
       "\n",
       "    .dataframe thead th {\n",
       "        text-align: right;\n",
       "    }\n",
       "</style>\n",
       "<table border=\"1\" class=\"dataframe\">\n",
       "  <thead>\n",
       "    <tr style=\"text-align: right;\">\n",
       "      <th></th>\n",
       "      <th>Region</th>\n",
       "      <th>Quantity</th>\n",
       "      <th>Total Price</th>\n",
       "      <th>Shipping Fee</th>\n",
       "    </tr>\n",
       "  </thead>\n",
       "  <tbody>\n",
       "    <tr>\n",
       "      <th>0</th>\n",
       "      <td>East</td>\n",
       "      <td>165</td>\n",
       "      <td>81040.000000</td>\n",
       "      <td>707.62</td>\n",
       "    </tr>\n",
       "    <tr>\n",
       "      <th>1</th>\n",
       "      <td>North</td>\n",
       "      <td>235</td>\n",
       "      <td>97665.296980</td>\n",
       "      <td>930.04</td>\n",
       "    </tr>\n",
       "    <tr>\n",
       "      <th>2</th>\n",
       "      <td>South</td>\n",
       "      <td>181</td>\n",
       "      <td>68182.601021</td>\n",
       "      <td>840.46</td>\n",
       "    </tr>\n",
       "    <tr>\n",
       "      <th>3</th>\n",
       "      <td>West</td>\n",
       "      <td>222</td>\n",
       "      <td>105054.685368</td>\n",
       "      <td>845.74</td>\n",
       "    </tr>\n",
       "  </tbody>\n",
       "</table>\n",
       "</div>"
      ],
      "text/plain": [
       "  Region  Quantity    Total Price  Shipping Fee\n",
       "0   East       165   81040.000000        707.62\n",
       "1  North       235   97665.296980        930.04\n",
       "2  South       181   68182.601021        840.46\n",
       "3   West       222  105054.685368        845.74"
      ]
     },
     "execution_count": 31,
     "metadata": {},
     "output_type": "execute_result"
    }
   ],
   "source": [
    "Returned_dataframe_Region= Returned_dataframe[['Region','Quantity','Total Price','Shipping Fee']].groupby('Region').sum()\n",
    "Returned_dataframe_Region.reset_index(inplace= True)\n",
    "Returned_dataframe_Region"
   ]
  },
  {
   "cell_type": "code",
   "execution_count": 36,
   "id": "2a87fc91",
   "metadata": {},
   "outputs": [
    {
     "data": {
      "text/html": [
       "<div>\n",
       "<style scoped>\n",
       "    .dataframe tbody tr th:only-of-type {\n",
       "        vertical-align: middle;\n",
       "    }\n",
       "\n",
       "    .dataframe tbody tr th {\n",
       "        vertical-align: top;\n",
       "    }\n",
       "\n",
       "    .dataframe thead th {\n",
       "        text-align: right;\n",
       "    }\n",
       "</style>\n",
       "<table border=\"1\" class=\"dataframe\">\n",
       "  <thead>\n",
       "    <tr style=\"text-align: right;\">\n",
       "      <th></th>\n",
       "      <th>Product Name</th>\n",
       "      <th>Quantity</th>\n",
       "      <th>Total Price</th>\n",
       "      <th>Shipping Fee</th>\n",
       "    </tr>\n",
       "  </thead>\n",
       "  <tbody>\n",
       "    <tr>\n",
       "      <th>0</th>\n",
       "      <td>Headphones</td>\n",
       "      <td>106</td>\n",
       "      <td>10707.304041</td>\n",
       "      <td>418.79</td>\n",
       "    </tr>\n",
       "    <tr>\n",
       "      <th>1</th>\n",
       "      <td>Keyboard</td>\n",
       "      <td>138</td>\n",
       "      <td>7114.608082</td>\n",
       "      <td>518.92</td>\n",
       "    </tr>\n",
       "    <tr>\n",
       "      <th>2</th>\n",
       "      <td>Laptop</td>\n",
       "      <td>124</td>\n",
       "      <td>189219.121225</td>\n",
       "      <td>488.92</td>\n",
       "    </tr>\n",
       "    <tr>\n",
       "      <th>3</th>\n",
       "      <td>Monitor</td>\n",
       "      <td>137</td>\n",
       "      <td>43675.296980</td>\n",
       "      <td>730.73</td>\n",
       "    </tr>\n",
       "    <tr>\n",
       "      <th>4</th>\n",
       "      <td>Mouse</td>\n",
       "      <td>103</td>\n",
       "      <td>3250.956061</td>\n",
       "      <td>367.62</td>\n",
       "    </tr>\n",
       "    <tr>\n",
       "      <th>5</th>\n",
       "      <td>Smartphone</td>\n",
       "      <td>94</td>\n",
       "      <td>77775.296980</td>\n",
       "      <td>365.54</td>\n",
       "    </tr>\n",
       "    <tr>\n",
       "      <th>6</th>\n",
       "      <td>Smartwatch</td>\n",
       "      <td>101</td>\n",
       "      <td>20200.000000</td>\n",
       "      <td>433.34</td>\n",
       "    </tr>\n",
       "  </tbody>\n",
       "</table>\n",
       "</div>"
      ],
      "text/plain": [
       "  Product Name  Quantity    Total Price  Shipping Fee\n",
       "0   Headphones       106   10707.304041        418.79\n",
       "1     Keyboard       138    7114.608082        518.92\n",
       "2       Laptop       124  189219.121225        488.92\n",
       "3      Monitor       137   43675.296980        730.73\n",
       "4        Mouse       103    3250.956061        367.62\n",
       "5   Smartphone        94   77775.296980        365.54\n",
       "6   Smartwatch       101   20200.000000        433.34"
      ]
     },
     "execution_count": 36,
     "metadata": {},
     "output_type": "execute_result"
    }
   ],
   "source": [
    "Returned_dataframe_Product_Name = Returned_dataframe[['Product Name','Quantity','Total Price','Shipping Fee']].groupby('Product Name').sum()\n",
    "Returned_dataframe_Product_Name.reset_index(inplace= True)\n",
    "Returned_dataframe_Product_Name\n",
    "#clean the  Total Price and round it to 2 decimal points.\n"
   ]
  },
  {
   "cell_type": "code",
   "execution_count": 50,
   "id": "91915e9c",
   "metadata": {
    "scrolled": true
   },
   "outputs": [
    {
     "name": "stdout",
     "output_type": "stream",
     "text": [
      "The mean of the Quantity is : 114.71\n"
     ]
    },
    {
     "data": {
      "image/png": "[encoded data removed]",
      "text/plain": [
       "<Figure size 640x480 with 1 Axes>"
      ]
     },
     "metadata": {},
     "output_type": "display_data"
    }
   ],
   "source": [
    "#culculate the mean(of Quality)\n",
    "Quantity_mean=Returned_dataframe_Product_Name['Quantity'].mean()\n",
    "print(\"The mean of the Quantity is :\",round(Quantity_mean,2))\n",
    "\n",
    "Product_Analysis=sns.barplot(data=Returned_dataframe_Product_Name, y=\"Product Name\", x=\"Quantity\")\n",
    "plt.show()\n",
    "\n"
   ]
  },
  {
   "cell_type": "markdown",
   "id": "26e6e297",
   "metadata": {},
   "source": [
    "### Interpretation:\n",
    "The Quantity of Keybord, Monitor and Laptop are above the mean Quantity of 114.71. Which shows high amount of Products that are returned."
   ]
  },
  {
   "cell_type": "code",
   "execution_count": 69,
   "id": "ea622d03",
   "metadata": {},
   "outputs": [
    {
     "data": {
      "image/png": "[encoded data removed]",
      "text/plain": [
       "<Figure size 400x400 with 1 Axes>"
      ]
     },
     "metadata": {},
     "output_type": "display_data"
    }
   ],
   "source": [
    "# change the size of a plot\n",
    "plt.figure(figsize=(4,4))\n",
    "#change the orientation of a plot\n",
    "plt.xticks(rotation=45)\n",
    "plt.tight_layout()\n",
    "\n",
    "# Plot the Graph\n",
    "Product_Analysis=sns.barplot(data=Returned_dataframe_Product_Name, y=\"Total Price\", x=\"Product Name\" )\n",
    "\n",
    "\n",
    "plt.show()"
   ]
  },
  {
   "cell_type": "markdown",
   "id": "45d7f6a9",
   "metadata": {},
   "source": [
    "### Interpretation:\n",
    "In terms of Revenue lost due to returned Product, it follows that laptops have the highest amount of revenue lost due to returned products\n",
    "\n",
    "### Product Name Analysis Conclusion.\n",
    "While Keyboard and monitors have the hightst amount of returns, the loss of revenue is not significant as compared to the loss that comes from returned laptops"
   ]
  },
  {
   "cell_type": "code",
   "execution_count": 41,
   "id": "f8cc6102",
   "metadata": {},
   "outputs": [
    {
     "data": {
      "image/png": "[encoded data removed]",
      "text/plain": [
       "<Figure size 640x480 with 1 Axes>"
      ]
     },
     "metadata": {},
     "output_type": "display_data"
    }
   ],
   "source": [
    "reurned_Region=sns.barplot(data=Returned_dataframe_Region, x=\"Region\", y=\"Quantity\")\n",
    "plt.show()"
   ]
  },
  {
   "cell_type": "markdown",
   "id": "94daf351",
   "metadata": {},
   "source": [
    "<h1 align=\"center\"> Shopping Behaviour patterns </h1>\n",
    "\n",
    "This part of analysis includes exploration of sales in terms of\n",
    "1. month\n",
    "2. days of the month on average\n",
    "3. overall trend trand of sales over the year\n",
    "4. overall rend of Total Price over a year"
   ]
  },
  {
   "cell_type": "markdown",
   "id": "f52f34de",
   "metadata": {},
   "source": [
    "### Conclusion\n",
    "\n"
   ]
  },
  {
   "cell_type": "markdown",
   "id": "292b9b09",
   "metadata": {},
   "source": []
  },
  {
   "cell_type": "code",
   "execution_count": null,
   "id": "6a63b62c",
   "metadata": {},
   "outputs": [],
   "source": []
  },
  {
   "cell_type": "code",
   "execution_count": null,
   "id": "2d0425e4",
   "metadata": {},
   "outputs": [],
   "source": []
  }
 ],
 "metadata": {
  "kernelspec": {
   "display_name": "Python 3 (ipykernel)",
   "language": "python",
   "name": "python3"
  },
  "language_info": {
   "codemirror_mode": {
    "name": "ipython",
    "version": 3
   },
   "file_extension": ".py",
   "mimetype": "text/x-python",
   "name": "python",
   "nbconvert_exporter": "python",
   "pygments_lexer": "ipython3",
   "version": "3.9.13"
  }
 },
 "nbformat": 4,
 "nbformat_minor": 5
}
